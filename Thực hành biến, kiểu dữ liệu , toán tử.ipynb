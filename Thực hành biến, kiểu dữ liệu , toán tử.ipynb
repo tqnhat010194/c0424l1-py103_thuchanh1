{
 "cells": [
  {
   "cell_type": "code",
   "execution_count": 1,
   "id": "dd493b12-e15b-48ea-a5c5-370fd6430ef0",
   "metadata": {},
   "outputs": [
    {
     "ename": "SyntaxError",
     "evalue": "invalid syntax (3156183134.py, line 2)",
     "output_type": "error",
     "traceback": [
      "\u001b[1;36m  Cell \u001b[1;32mIn[1], line 2\u001b[1;36m\u001b[0m\n\u001b[1;33m    Viết chương trình nhập vào 2 số nguyên `num1` và `num2`. In ra tích của 2 số nguyên đó.\u001b[0m\n\u001b[1;37m         ^\u001b[0m\n\u001b[1;31mSyntaxError\u001b[0m\u001b[1;31m:\u001b[0m invalid syntax\n"
     ]
    }
   ],
   "source": [
    "## Bài 1\n",
    "Viết chương trình nhập vào 2 số nguyên `num1` và `num2`. In ra tích của 2 số nguyên đó."
   ]
  },
  {
   "cell_type": "code",
   "execution_count": null,
   "id": "285ee8a0-86c8-4949-adf6-8851505e2fcd",
   "metadata": {},
   "outputs": [],
   "source": [
    "num1 = int(input( \"num1 : \"))\n",
    "num2 = int(input( \"num2 : \"))\n",
    "tich = num1 * num2 \n",
    "print (tich)"
   ]
  },
  {
   "cell_type": "code",
   "execution_count": 4,
   "id": "73e49776-2c20-48f5-a066-798ee7ec57ec",
   "metadata": {},
   "outputs": [
    {
     "name": "stdout",
     "output_type": "stream",
     "text": [
      "2\n"
     ]
    }
   ],
   "source": [
    "tich = num1 * num2 \n",
    "print (tich)"
   ]
  },
  {
   "cell_type": "code",
   "execution_count": null,
   "id": "d7f89428-b57e-4a86-af1b-b608cce40202",
   "metadata": {},
   "outputs": [],
   "source": [
    "## Bài 2 \n",
    "Nhập vào ba biến `diem_toan`, `diem_ly`, `diem_hoa` và in ra điểm trung bình của ba môn học trên."
   ]
  },
  {
   "cell_type": "code",
   "execution_count": 3,
   "id": "f630d048-6001-484a-9602-b4d503463d6c",
   "metadata": {},
   "outputs": [
    {
     "name": "stdin",
     "output_type": "stream",
     "text": [
      "nhập điểm toán :  9\n",
      " nhập điểm lý :  8\n",
      "nhập điểm hóa :  7\n"
     ]
    },
    {
     "name": "stdout",
     "output_type": "stream",
     "text": [
      "(9.0 + 8.0 +7.0)/3 = 8.0\n"
     ]
    }
   ],
   "source": [
    "diem_toan = float(input(\"nhập điểm toán : \"))\n",
    "diem_ly  = float(input(\" nhập điểm lý : \"))\n",
    "diem_hoa = float(input(\"nhập điểm hóa : \"))\n",
    "diem_trung_binh = (diem_toan  + diem_ly + diem_hoa)/3\n",
    "print (f\"({diem_toan} + {diem_ly} +{diem_hoa})/3 = {diem_trung_binh}\")"
   ]
  },
  {
   "cell_type": "code",
   "execution_count": null,
   "id": "5e418c79-88e5-4629-a30e-921c5b60c6c4",
   "metadata": {},
   "outputs": [],
   "source": []
  },
  {
   "cell_type": "code",
   "execution_count": null,
   "id": "612d21fd-89b5-4afa-a7f8-2211d15eff20",
   "metadata": {},
   "outputs": [],
   "source": [
    "## Bài 3\n",
    "Nhập vào vận tốc của đoàn tàu theo đơn vị km/h.\n",
    "\n",
    "a. Hỏi trung bình mỗi phút đoàn tàu đi được bao nhiêu mét?\n",
    "\n",
    "b. Sau 1 giờ 12 phút đoàn tàu đi được bao nhiêu km?"
   ]
  },
  {
   "cell_type": "code",
   "execution_count": 3,
   "id": "ae27a44e-cdf2-4cbb-b8a2-55e74bd3543e",
   "metadata": {},
   "outputs": [
    {
     "name": "stdin",
     "output_type": "stream",
     "text": [
      "Nhập vào vận tốc của đoàn tàu theo đơn vị km/h. 33\n"
     ]
    },
    {
     "name": "stdout",
     "output_type": "stream",
     "text": [
      " trung bình mỗi phút đoàn tàu đi được 550.0 mét\n",
      " Sau 1 giờ 12 phút đoàn tàu đi được 39.6 km\n"
     ]
    }
   ],
   "source": [
    "v = float(input(\"Nhập vào vận tốc của đoàn tàu theo đơn vị km/h.\"))\n",
    "a = v * 1000/60\n",
    "b = v  * 1.2\n",
    "print(f\" trung bình mỗi phút đoàn tàu đi được {a} mét\")\n",
    "print(f\" Sau 1 giờ 12 phút đoàn tàu đi được {b} km\")\n"
   ]
  }
 ],
 "metadata": {
  "kernelspec": {
   "display_name": "Python 3 (ipykernel)",
   "language": "python",
   "name": "python3"
  },
  "language_info": {
   "codemirror_mode": {
    "name": "ipython",
    "version": 3
   },
   "file_extension": ".py",
   "mimetype": "text/x-python",
   "name": "python",
   "nbconvert_exporter": "python",
   "pygments_lexer": "ipython3",
   "version": "3.12.3"
  }
 },
 "nbformat": 4,
 "nbformat_minor": 5
}
